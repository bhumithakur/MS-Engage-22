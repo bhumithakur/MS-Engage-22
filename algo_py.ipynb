{
  "nbformat": 4,
  "nbformat_minor": 0,
  "metadata": {
    "colab": {
      "name": "algo.py",
      "provenance": [],
      "authorship_tag": "ABX9TyOoNSTGu9AiEueJaBhxC5+G",
      "include_colab_link": true
    },
    "kernelspec": {
      "name": "python3",
      "display_name": "Python 3"
    },
    "language_info": {
      "name": "python"
    }
  },
  "cells": [
    {
      "cell_type": "markdown",
      "metadata": {
        "id": "view-in-github",
        "colab_type": "text"
      },
      "source": [
        "<a href=\"https://colab.research.google.com/github/bhumithakur/MS-Engage-22/blob/main/algo_py.ipynb\" target=\"_parent\"><img src=\"https://colab.research.google.com/assets/colab-badge.svg\" alt=\"Open In Colab\"/></a>"
      ]
    },
    {
      "cell_type": "code",
      "execution_count": 1,
      "metadata": {
        "id": "rfb9g5ZAvOBB"
      },
      "outputs": [],
      "source": [
        "import numpy as np\n",
        "from operator import itemgetter\n"
      ]
    },
    {
      "cell_type": "code",
      "source": [
        "class KNN :\n",
        "    def __init__(self, data, target, test_pt ,k): \n",
        "        self.data = data\n",
        "        self.target = target\n",
        "        self.test_pt = test_pt\n",
        "        self.k  = k\n",
        "        self.dist = list()\n",
        "        self.indices = list()\n",
        "        self.categories = list()\n",
        "        self.counts = list()\n",
        "        self.category_assigned =  None\n",
        "\n",
        "\n"
      ],
      "metadata": {
        "id": "fK_yPQINvwTB"
      },
      "execution_count": 5,
      "outputs": []
    },
    {
      "cell_type": "code",
      "source": [
        "@staticmethod\n",
        "\n",
        "#find euclidien distance between two points\n",
        "def distance(p1,p2):\n",
        "   return np.linalg.norm(np.array(p1) - np.array(p2))\n"
      ],
      "metadata": {
        "id": "dgpH-6qxw8Yd"
      },
      "execution_count": 6,
      "outputs": []
    },
    {
      "cell_type": "code",
      "source": [
        "#method that perform knn classification , we'll do this using classfication instead of clustering\n",
        "def fit(self): \n",
        "    self.dist.extend([(self.distance(self.test_pt, point), i) for point, i in zip(self.data, [i for i in range(len(self.data))])])\n",
        "    sorted_list = sorted(self.dist, key=itemgetter(0))\n",
        "    self.indices.extend([index for (val, index) in sorted_list[:self.k]])\n",
        "    for i in self.indices :\n",
        "        self.categories.append(self.target[i])\n",
        "    self.counts.extend([(i, self.categories.count(i)) for i in set(self.categories)])\n",
        "    self.category_assigned = sorted(self.counts, key=itemgetter(1), reverse=True)[0][0]"
      ],
      "metadata": {
        "id": "VqXSQwStxnGU"
      },
      "execution_count": 12,
      "outputs": []
    }
  ]
}