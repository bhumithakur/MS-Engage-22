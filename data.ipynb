{
  "nbformat": 4,
  "nbformat_minor": 0,
  "metadata": {
    "colab": {
      "name": "data.ipynb",
      "provenance": [],
      "authorship_tag": "ABX9TyPmGj7b1wN8IjwgQqJzgYWL",
      "include_colab_link": true
    },
    "kernelspec": {
      "name": "python3",
      "display_name": "Python 3"
    },
    "language_info": {
      "name": "python"
    }
  },
  "cells": [
    {
      "cell_type": "markdown",
      "metadata": {
        "id": "view-in-github",
        "colab_type": "text"
      },
      "source": [
        "<a href=\"https://colab.research.google.com/github/bhumithakur/MS-Engage-22/blob/main/data.ipynb\" target=\"_parent\"><img src=\"https://colab.research.google.com/assets/colab-badge.svg\" alt=\"Open In Colab\"/></a>"
      ]
    },
    {
      "cell_type": "code",
      "execution_count": null,
      "metadata": {
        "id": "D_CqvLR-Kiuu"
      },
      "outputs": [],
      "source": [
        "import json\n",
        "import pandas as pd \n",
        "#as we uses pandas as third party lib\n"
      ]
    },
    {
      "cell_type": "code",
      "source": [
        "from google.colab import drive\n",
        "drive.mount('/content/drive')"
      ],
      "metadata": {
        "colab": {
          "base_uri": "https://localhost:8080/"
        },
        "id": "xs0BdUd_Kv4K",
        "outputId": "bff7d69c-5644-448e-ac78-25f562844204"
      },
      "execution_count": null,
      "outputs": [
        {
          "output_type": "stream",
          "name": "stdout",
          "text": [
            "Mounted at /content/drive\n"
          ]
        }
      ]
    },
    {
      "cell_type": "code",
      "source": [
        "cd '/content/drive/MyDrive/Student.gs'"
      ],
      "metadata": {
        "colab": {
          "base_uri": "https://localhost:8080/"
        },
        "id": "iVzURRFHK8uW",
        "outputId": "9a971d5b-dc1f-4169-b51e-f27389428bc0"
      },
      "execution_count": null,
      "outputs": [
        {
          "output_type": "stream",
          "name": "stdout",
          "text": [
            "/content/drive/MyDrive/Student.gs\n"
          ]
        }
      ]
    },
    {
      "cell_type": "code",
      "source": [
        "!unzip 'student.zip'"
      ],
      "metadata": {
        "colab": {
          "base_uri": "https://localhost:8080/"
        },
        "id": "6KUgFv0bMqzO",
        "outputId": "2cc939d6-c611-414e-8f95-b49d4e43c636"
      },
      "execution_count": null,
      "outputs": [
        {
          "output_type": "stream",
          "name": "stdout",
          "text": [
            "Archive:  student.zip\n",
            "replace student-mat.csv? [y]es, [n]o, [A]ll, [N]one, [r]ename: y\n",
            "  inflating: student-mat.csv         \n",
            "replace student-por.csv? [y]es, [n]o, [A]ll, [N]one, [r]ename: y\n",
            "  inflating: student-por.csv         \n",
            "replace student-merge.R? [y]es, [n]o, [A]ll, [N]one, [r]ename: y\n",
            "  inflating: student-merge.R         \n",
            "replace student.txt? [y]es, [n]o, [A]ll, [N]one, [r]ename: y\n",
            "  inflating: student.txt             \n"
          ]
        }
      ]
    },
    {
      "cell_type": "code",
      "source": [
        "ls"
      ],
      "metadata": {
        "colab": {
          "base_uri": "https://localhost:8080/"
        },
        "id": "eXrira1bNbih",
        "outputId": "98aa2a34-df66-4124-dc92-089c43eac45b"
      },
      "execution_count": null,
      "outputs": [
        {
          "output_type": "stream",
          "name": "stdout",
          "text": [
            "movies_metadata.csv  student-merge.R   \u001b[0m\u001b[01;32mstudent.txt\u001b[0m*\n",
            "\u001b[01;32mstudent-mat.csv\u001b[0m*     \u001b[01;32mstudent-por.csv\u001b[0m*  student.zip\n"
          ]
        }
      ]
    },
    {
      "cell_type": "code",
      "source": [
        "data = pd.read_csv(r'movies_metadata.csv')"
      ],
      "metadata": {
        "id": "RJSXwC3yNiZD"
      },
      "execution_count": null,
      "outputs": []
    },
    {
      "cell_type": "markdown",
      "source": [
        "\n",
        "#checkout the data\n",
        "---\n",
        "\n"
      ],
      "metadata": {
        "id": "F-A7OK7WORvs"
      }
    },
    {
      "cell_type": "code",
      "source": [
        "data.head\n"
      ],
      "metadata": {
        "colab": {
          "base_uri": "https://localhost:8080/"
        },
        "id": "u9gl6vqXOFXg",
        "outputId": "e89307f0-31c2-4262-c826-d34e19a5d310"
      },
      "execution_count": null,
      "outputs": [
        {
          "output_type": "execute_result",
          "data": {
            "text/plain": [
              "<bound method NDFrame.head of       color      director_name  num_critic_for_reviews  duration  \\\n",
              "0     Color      James Cameron                   723.0     178.0   \n",
              "1     Color     Gore Verbinski                   302.0     169.0   \n",
              "2     Color         Sam Mendes                   602.0     148.0   \n",
              "3     Color  Christopher Nolan                   813.0     164.0   \n",
              "4       NaN        Doug Walker                     NaN       NaN   \n",
              "...     ...                ...                     ...       ...   \n",
              "5038  Color        Scott Smith                     1.0      87.0   \n",
              "5039  Color                NaN                    43.0      43.0   \n",
              "5040  Color   Benjamin Roberds                    13.0      76.0   \n",
              "5041  Color        Daniel Hsia                    14.0     100.0   \n",
              "5042  Color           Jon Gunn                    43.0      90.0   \n",
              "\n",
              "      director_facebook_likes  actor_3_facebook_likes      actor_2_name  \\\n",
              "0                         0.0                   855.0  Joel David Moore   \n",
              "1                       563.0                  1000.0     Orlando Bloom   \n",
              "2                         0.0                   161.0      Rory Kinnear   \n",
              "3                     22000.0                 23000.0    Christian Bale   \n",
              "4                       131.0                     NaN        Rob Walker   \n",
              "...                       ...                     ...               ...   \n",
              "5038                      2.0                   318.0     Daphne Zuniga   \n",
              "5039                      NaN                   319.0     Valorie Curry   \n",
              "5040                      0.0                     0.0     Maxwell Moody   \n",
              "5041                      0.0                   489.0     Daniel Henney   \n",
              "5042                     16.0                    16.0  Brian Herzlinger   \n",
              "\n",
              "      actor_1_facebook_likes        gross                           genres  \\\n",
              "0                     1000.0  760505847.0  Action|Adventure|Fantasy|Sci-Fi   \n",
              "1                    40000.0  309404152.0         Action|Adventure|Fantasy   \n",
              "2                    11000.0  200074175.0        Action|Adventure|Thriller   \n",
              "3                    27000.0  448130642.0                  Action|Thriller   \n",
              "4                      131.0          NaN                      Documentary   \n",
              "...                      ...          ...                              ...   \n",
              "5038                   637.0          NaN                     Comedy|Drama   \n",
              "5039                   841.0          NaN     Crime|Drama|Mystery|Thriller   \n",
              "5040                     0.0          NaN            Drama|Horror|Thriller   \n",
              "5041                   946.0      10443.0             Comedy|Drama|Romance   \n",
              "5042                    86.0      85222.0                      Documentary   \n",
              "\n",
              "      ... num_user_for_reviews language  country  content_rating       budget  \\\n",
              "0     ...               3054.0  English      USA           PG-13  237000000.0   \n",
              "1     ...               1238.0  English      USA           PG-13  300000000.0   \n",
              "2     ...                994.0  English       UK           PG-13  245000000.0   \n",
              "3     ...               2701.0  English      USA           PG-13  250000000.0   \n",
              "4     ...                  NaN      NaN      NaN             NaN          NaN   \n",
              "...   ...                  ...      ...      ...             ...          ...   \n",
              "5038  ...                  6.0  English   Canada             NaN          NaN   \n",
              "5039  ...                359.0  English      USA           TV-14          NaN   \n",
              "5040  ...                  3.0  English      USA             NaN       1400.0   \n",
              "5041  ...                  9.0  English      USA           PG-13          NaN   \n",
              "5042  ...                 84.0  English      USA              PG       1100.0   \n",
              "\n",
              "      title_year actor_2_facebook_likes imdb_score  aspect_ratio  \\\n",
              "0         2009.0                  936.0        7.9          1.78   \n",
              "1         2007.0                 5000.0        7.1          2.35   \n",
              "2         2015.0                  393.0        6.8          2.35   \n",
              "3         2012.0                23000.0        8.5          2.35   \n",
              "4            NaN                   12.0        7.1           NaN   \n",
              "...          ...                    ...        ...           ...   \n",
              "5038      2013.0                  470.0        7.7           NaN   \n",
              "5039         NaN                  593.0        7.5         16.00   \n",
              "5040      2013.0                    0.0        6.3           NaN   \n",
              "5041      2012.0                  719.0        6.3          2.35   \n",
              "5042      2004.0                   23.0        6.6          1.85   \n",
              "\n",
              "     movie_facebook_likes  \n",
              "0                   33000  \n",
              "1                       0  \n",
              "2                   85000  \n",
              "3                  164000  \n",
              "4                       0  \n",
              "...                   ...  \n",
              "5038                   84  \n",
              "5039                32000  \n",
              "5040                   16  \n",
              "5041                  660  \n",
              "5042                  456  \n",
              "\n",
              "[5043 rows x 28 columns]>"
            ]
          },
          "metadata": {},
          "execution_count": 12
        }
      ]
    },
    {
      "cell_type": "code",
      "source": [
        "data.shape"
      ],
      "metadata": {
        "colab": {
          "base_uri": "https://localhost:8080/"
        },
        "id": "9WeIzZ-bObnD",
        "outputId": "d8e71a44-7872-459b-97f8-8850ab598873"
      },
      "execution_count": null,
      "outputs": [
        {
          "output_type": "execute_result",
          "data": {
            "text/plain": [
              "(5043, 28)"
            ]
          },
          "metadata": {},
          "execution_count": 13
        }
      ]
    },
    {
      "cell_type": "code",
      "source": [
        "data_frame = data[['genres', 'movie_title','imdb_score','movie_imdb_link']].copy()"
      ],
      "metadata": {
        "id": "X4WNt5zcOh3S"
      },
      "execution_count": null,
      "outputs": []
    },
    {
      "cell_type": "code",
      "source": [
        "data_frame"
      ],
      "metadata": {
        "colab": {
          "base_uri": "https://localhost:8080/",
          "height": 424
        },
        "id": "jX38keJgb8EN",
        "outputId": "0abfc593-a49e-4924-e0c0-711495742f05"
      },
      "execution_count": null,
      "outputs": [
        {
          "output_type": "execute_result",
          "data": {
            "text/plain": [
              "                               genres  \\\n",
              "0     Action|Adventure|Fantasy|Sci-Fi   \n",
              "1            Action|Adventure|Fantasy   \n",
              "2           Action|Adventure|Thriller   \n",
              "3                     Action|Thriller   \n",
              "4                         Documentary   \n",
              "...                               ...   \n",
              "5038                     Comedy|Drama   \n",
              "5039     Crime|Drama|Mystery|Thriller   \n",
              "5040            Drama|Horror|Thriller   \n",
              "5041             Comedy|Drama|Romance   \n",
              "5042                      Documentary   \n",
              "\n",
              "                                            movie_title  imdb_score  \\\n",
              "0                                               Avatar          7.9   \n",
              "1             Pirates of the Caribbean: At World's End          7.1   \n",
              "2                                              Spectre          6.8   \n",
              "3                                The Dark Knight Rises          8.5   \n",
              "4     Star Wars: Episode VII - The Force Awakens    ...         7.1   \n",
              "...                                                 ...         ...   \n",
              "5038                           Signed Sealed Delivered          7.7   \n",
              "5039                         The Following                      7.5   \n",
              "5040                              A Plague So Pleasant          6.3   \n",
              "5041                                  Shanghai Calling          6.3   \n",
              "5042                                 My Date with Drew          6.6   \n",
              "\n",
              "                                        movie_imdb_link  \n",
              "0     http://www.imdb.com/title/tt0499549/?ref_=fn_t...  \n",
              "1     http://www.imdb.com/title/tt0449088/?ref_=fn_t...  \n",
              "2     http://www.imdb.com/title/tt2379713/?ref_=fn_t...  \n",
              "3     http://www.imdb.com/title/tt1345836/?ref_=fn_t...  \n",
              "4     http://www.imdb.com/title/tt5289954/?ref_=fn_t...  \n",
              "...                                                 ...  \n",
              "5038  http://www.imdb.com/title/tt3000844/?ref_=fn_t...  \n",
              "5039  http://www.imdb.com/title/tt2071645/?ref_=fn_t...  \n",
              "5040  http://www.imdb.com/title/tt2107644/?ref_=fn_t...  \n",
              "5041  http://www.imdb.com/title/tt2070597/?ref_=fn_t...  \n",
              "5042  http://www.imdb.com/title/tt0378407/?ref_=fn_t...  \n",
              "\n",
              "[5043 rows x 4 columns]"
            ],
            "text/html": [
              "\n",
              "  <div id=\"df-2ec9bf95-3881-4cdc-b83d-68321865e2b2\">\n",
              "    <div class=\"colab-df-container\">\n",
              "      <div>\n",
              "<style scoped>\n",
              "    .dataframe tbody tr th:only-of-type {\n",
              "        vertical-align: middle;\n",
              "    }\n",
              "\n",
              "    .dataframe tbody tr th {\n",
              "        vertical-align: top;\n",
              "    }\n",
              "\n",
              "    .dataframe thead th {\n",
              "        text-align: right;\n",
              "    }\n",
              "</style>\n",
              "<table border=\"1\" class=\"dataframe\">\n",
              "  <thead>\n",
              "    <tr style=\"text-align: right;\">\n",
              "      <th></th>\n",
              "      <th>genres</th>\n",
              "      <th>movie_title</th>\n",
              "      <th>imdb_score</th>\n",
              "      <th>movie_imdb_link</th>\n",
              "    </tr>\n",
              "  </thead>\n",
              "  <tbody>\n",
              "    <tr>\n",
              "      <th>0</th>\n",
              "      <td>Action|Adventure|Fantasy|Sci-Fi</td>\n",
              "      <td>Avatar</td>\n",
              "      <td>7.9</td>\n",
              "      <td>http://www.imdb.com/title/tt0499549/?ref_=fn_t...</td>\n",
              "    </tr>\n",
              "    <tr>\n",
              "      <th>1</th>\n",
              "      <td>Action|Adventure|Fantasy</td>\n",
              "      <td>Pirates of the Caribbean: At World's End</td>\n",
              "      <td>7.1</td>\n",
              "      <td>http://www.imdb.com/title/tt0449088/?ref_=fn_t...</td>\n",
              "    </tr>\n",
              "    <tr>\n",
              "      <th>2</th>\n",
              "      <td>Action|Adventure|Thriller</td>\n",
              "      <td>Spectre</td>\n",
              "      <td>6.8</td>\n",
              "      <td>http://www.imdb.com/title/tt2379713/?ref_=fn_t...</td>\n",
              "    </tr>\n",
              "    <tr>\n",
              "      <th>3</th>\n",
              "      <td>Action|Thriller</td>\n",
              "      <td>The Dark Knight Rises</td>\n",
              "      <td>8.5</td>\n",
              "      <td>http://www.imdb.com/title/tt1345836/?ref_=fn_t...</td>\n",
              "    </tr>\n",
              "    <tr>\n",
              "      <th>4</th>\n",
              "      <td>Documentary</td>\n",
              "      <td>Star Wars: Episode VII - The Force Awakens    ...</td>\n",
              "      <td>7.1</td>\n",
              "      <td>http://www.imdb.com/title/tt5289954/?ref_=fn_t...</td>\n",
              "    </tr>\n",
              "    <tr>\n",
              "      <th>...</th>\n",
              "      <td>...</td>\n",
              "      <td>...</td>\n",
              "      <td>...</td>\n",
              "      <td>...</td>\n",
              "    </tr>\n",
              "    <tr>\n",
              "      <th>5038</th>\n",
              "      <td>Comedy|Drama</td>\n",
              "      <td>Signed Sealed Delivered</td>\n",
              "      <td>7.7</td>\n",
              "      <td>http://www.imdb.com/title/tt3000844/?ref_=fn_t...</td>\n",
              "    </tr>\n",
              "    <tr>\n",
              "      <th>5039</th>\n",
              "      <td>Crime|Drama|Mystery|Thriller</td>\n",
              "      <td>The Following</td>\n",
              "      <td>7.5</td>\n",
              "      <td>http://www.imdb.com/title/tt2071645/?ref_=fn_t...</td>\n",
              "    </tr>\n",
              "    <tr>\n",
              "      <th>5040</th>\n",
              "      <td>Drama|Horror|Thriller</td>\n",
              "      <td>A Plague So Pleasant</td>\n",
              "      <td>6.3</td>\n",
              "      <td>http://www.imdb.com/title/tt2107644/?ref_=fn_t...</td>\n",
              "    </tr>\n",
              "    <tr>\n",
              "      <th>5041</th>\n",
              "      <td>Comedy|Drama|Romance</td>\n",
              "      <td>Shanghai Calling</td>\n",
              "      <td>6.3</td>\n",
              "      <td>http://www.imdb.com/title/tt2070597/?ref_=fn_t...</td>\n",
              "    </tr>\n",
              "    <tr>\n",
              "      <th>5042</th>\n",
              "      <td>Documentary</td>\n",
              "      <td>My Date with Drew</td>\n",
              "      <td>6.6</td>\n",
              "      <td>http://www.imdb.com/title/tt0378407/?ref_=fn_t...</td>\n",
              "    </tr>\n",
              "  </tbody>\n",
              "</table>\n",
              "<p>5043 rows × 4 columns</p>\n",
              "</div>\n",
              "      <button class=\"colab-df-convert\" onclick=\"convertToInteractive('df-2ec9bf95-3881-4cdc-b83d-68321865e2b2')\"\n",
              "              title=\"Convert this dataframe to an interactive table.\"\n",
              "              style=\"display:none;\">\n",
              "        \n",
              "  <svg xmlns=\"http://www.w3.org/2000/svg\" height=\"24px\"viewBox=\"0 0 24 24\"\n",
              "       width=\"24px\">\n",
              "    <path d=\"M0 0h24v24H0V0z\" fill=\"none\"/>\n",
              "    <path d=\"M18.56 5.44l.94 2.06.94-2.06 2.06-.94-2.06-.94-.94-2.06-.94 2.06-2.06.94zm-11 1L8.5 8.5l.94-2.06 2.06-.94-2.06-.94L8.5 2.5l-.94 2.06-2.06.94zm10 10l.94 2.06.94-2.06 2.06-.94-2.06-.94-.94-2.06-.94 2.06-2.06.94z\"/><path d=\"M17.41 7.96l-1.37-1.37c-.4-.4-.92-.59-1.43-.59-.52 0-1.04.2-1.43.59L10.3 9.45l-7.72 7.72c-.78.78-.78 2.05 0 2.83L4 21.41c.39.39.9.59 1.41.59.51 0 1.02-.2 1.41-.59l7.78-7.78 2.81-2.81c.8-.78.8-2.07 0-2.86zM5.41 20L4 18.59l7.72-7.72 1.47 1.35L5.41 20z\"/>\n",
              "  </svg>\n",
              "      </button>\n",
              "      \n",
              "  <style>\n",
              "    .colab-df-container {\n",
              "      display:flex;\n",
              "      flex-wrap:wrap;\n",
              "      gap: 12px;\n",
              "    }\n",
              "\n",
              "    .colab-df-convert {\n",
              "      background-color: #E8F0FE;\n",
              "      border: none;\n",
              "      border-radius: 50%;\n",
              "      cursor: pointer;\n",
              "      display: none;\n",
              "      fill: #1967D2;\n",
              "      height: 32px;\n",
              "      padding: 0 0 0 0;\n",
              "      width: 32px;\n",
              "    }\n",
              "\n",
              "    .colab-df-convert:hover {\n",
              "      background-color: #E2EBFA;\n",
              "      box-shadow: 0px 1px 2px rgba(60, 64, 67, 0.3), 0px 1px 3px 1px rgba(60, 64, 67, 0.15);\n",
              "      fill: #174EA6;\n",
              "    }\n",
              "\n",
              "    [theme=dark] .colab-df-convert {\n",
              "      background-color: #3B4455;\n",
              "      fill: #D2E3FC;\n",
              "    }\n",
              "\n",
              "    [theme=dark] .colab-df-convert:hover {\n",
              "      background-color: #434B5C;\n",
              "      box-shadow: 0px 1px 3px 1px rgba(0, 0, 0, 0.15);\n",
              "      filter: drop-shadow(0px 1px 2px rgba(0, 0, 0, 0.3));\n",
              "      fill: #FFFFFF;\n",
              "    }\n",
              "  </style>\n",
              "\n",
              "      <script>\n",
              "        const buttonEl =\n",
              "          document.querySelector('#df-2ec9bf95-3881-4cdc-b83d-68321865e2b2 button.colab-df-convert');\n",
              "        buttonEl.style.display =\n",
              "          google.colab.kernel.accessAllowed ? 'block' : 'none';\n",
              "\n",
              "        async function convertToInteractive(key) {\n",
              "          const element = document.querySelector('#df-2ec9bf95-3881-4cdc-b83d-68321865e2b2');\n",
              "          const dataTable =\n",
              "            await google.colab.kernel.invokeFunction('convertToInteractive',\n",
              "                                                     [key], {});\n",
              "          if (!dataTable) return;\n",
              "\n",
              "          const docLinkHtml = 'Like what you see? Visit the ' +\n",
              "            '<a target=\"_blank\" href=https://colab.research.google.com/notebooks/data_table.ipynb>data table notebook</a>'\n",
              "            + ' to learn more about interactive tables.';\n",
              "          element.innerHTML = '';\n",
              "          dataTable['output_type'] = 'display_data';\n",
              "          await google.colab.output.renderOutput(dataTable, element);\n",
              "          const docLink = document.createElement('div');\n",
              "          docLink.innerHTML = docLinkHtml;\n",
              "          element.appendChild(docLink);\n",
              "        }\n",
              "      </script>\n",
              "    </div>\n",
              "  </div>\n",
              "  "
            ]
          },
          "metadata": {},
          "execution_count": 16
        }
      ]
    },
    {
      "cell_type": "code",
      "source": [
        "genre_all_movies = [data_frame.loc[i]['genres'].split('|') for i in data_frame.index]"
      ],
      "metadata": {
        "id": "AsJNsoTocQZ1"
      },
      "execution_count": null,
      "outputs": []
    },
    {
      "cell_type": "code",
      "source": [
        "genres = sorted(list(set([item for sublist in genre_all_movies for item in sublist])))"
      ],
      "metadata": {
        "id": "a-bN6Auhcnwj"
      },
      "execution_count": null,
      "outputs": []
    },
    {
      "cell_type": "markdown",
      "source": [
        "//initilise the list"
      ],
      "metadata": {
        "id": "FsIxBBw6eLtx"
      }
    },
    {
      "cell_type": "code",
      "source": [
        "full_movie_data = list()\n",
        "full_movie_title = list()"
      ],
      "metadata": {
        "id": "vMolQyhGeB1S"
      },
      "execution_count": null,
      "outputs": []
    },
    {
      "cell_type": "code",
      "source": [
        "for i in data_frame.index :\n",
        " full_movie_title.append((data_frame.loc[i]['movie_title'].strip(),i,data_frame.loc[i]['movie_imdb_link'].strip()));\n",
        " movie_data = [1 if genre in data_frame.loc[i]['genres'].split('|') else 0 for genre in genres]\n",
        " movie_data.append(data_frame.loc[i]['imdb_score'])\n",
        "full_movie_data.append(movie_data)"
      ],
      "metadata": {
        "id": "ei7uZffpePT0"
      },
      "execution_count": null,
      "outputs": []
    },
    {
      "cell_type": "code",
      "source": [
        "data_dump = r'data.json'\n",
        "title_dump = r'title.json'\n",
        "with open (data_dump,'wt',encoding = 'utf-8') as f:\n",
        "    json.dump(full_movie_data,f)\n",
        "with open (title_dump,'wt',encoding = 'utf-8') as f:\n",
        "    json.dump(full_movie_title,f)"
      ],
      "metadata": {
        "id": "s4IpV_3dfFuY"
      },
      "execution_count": null,
      "outputs": []
    },
    {
      "cell_type": "markdown",
      "source": [
        "# New Section"
      ],
      "metadata": {
        "id": "J9-jfxZgtkZg"
      }
    }
  ]
}